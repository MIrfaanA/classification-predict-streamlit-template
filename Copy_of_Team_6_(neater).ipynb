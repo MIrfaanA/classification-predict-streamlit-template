{
  "nbformat": 4,
  "nbformat_minor": 5,
  "metadata": {
    "kernelspec": {
      "display_name": "Python 3",
      "language": "python",
      "name": "python3"
    },
    "language_info": {
      "codemirror_mode": {
        "name": "ipython",
        "version": 3
      },
      "file_extension": ".py",
      "mimetype": "text/x-python",
      "name": "python",
      "nbconvert_exporter": "python",
      "pygments_lexer": "ipython3",
      "version": "3.8.8"
    },
    "colab": {
      "name": "Copy of Team_6 (neater).ipynb",
      "provenance": [],
      "collapsed_sections": [],
      "include_colab_link": true
    }
  },
  "cells": [
    {
      "cell_type": "markdown",
      "metadata": {
        "id": "view-in-github",
        "colab_type": "text"
      },
      "source": [
        "<a href=\"https://colab.research.google.com/github/MIrfaanA/classification-predict-streamlit-template/blob/master/Copy_of_Team_6_(neater).ipynb\" target=\"_parent\"><img src=\"https://colab.research.google.com/assets/colab-badge.svg\" alt=\"Open In Colab\"/></a>"
      ]
    },
    {
      "cell_type": "markdown",
      "metadata": {
        "id": "0f929e9e"
      },
      "source": [
        "## 2021/22 Climate Change Belief Analysis Predict Solution"
      ],
      "id": "0f929e9e"
    },
    {
      "cell_type": "markdown",
      "metadata": {
        "id": "64599664"
      },
      "source": [
        "<img src=\"https://1qa2mv1tvhvk1t1uyv1mvwyx1dmd-wpengine.netdna-ssl.com/files/2014/01/Twitter-350.jpg\"\n",
        "     alt=\"Learn good habits to avoid modeling debt\"\n",
        "     style=\"float: center; padding-bottom=0.5em\"\n",
        "     width=700px\n",
        "     height=500px/>"
      ],
      "id": "64599664"
    },
    {
      "cell_type": "markdown",
      "metadata": {
        "id": "79c0835a"
      },
      "source": [
        "### Team 6 \n",
        "\n",
        "- Floyd Skakane\n",
        "- Lehlogonolo Jesica Teffo\n",
        "- Muhammed Irfaan Ahmed\n",
        "- Mulalo Malange\n",
        "- Vuyisile Ngobeni\n"
      ],
      "id": "79c0835a"
    },
    {
      "cell_type": "markdown",
      "metadata": {
        "id": "ed63299c"
      },
      "source": [
        "### Supervisor\n",
        "James Combrink"
      ],
      "id": "ed63299c"
    },
    {
      "cell_type": "markdown",
      "metadata": {
        "id": "74ac4248"
      },
      "source": [
        "### Introduction\n",
        "\n",
        "Many companies are built around lessening one’s environmental impact or carbon footprint.They offer  products and services that are environmentally friendly and sustainable, in line with their values  and ideals.They would like to determine how people perceive climate change and whether or not they believe  it is a real threat.This would add to their market research efforts in gauging how their product/service may be received."
      ],
      "id": "74ac4248"
    },
    {
      "cell_type": "markdown",
      "metadata": {
        "id": "98fb3686"
      },
      "source": [
        "### Problem statement"
      ],
      "id": "98fb3686"
    },
    {
      "cell_type": "markdown",
      "metadata": {
        "id": "2ab47ec4"
      },
      "source": [
        "We are tasked to create a Machine Learning model that is able to classify whether or not a person believes in climate change,\n",
        "based on their novel tweet data.Providing an accurate and robust solution to this task gives companies access to a broad base\n",
        "of consumer sentiment, spanning multiple demographic and geographic categories - thus increasing their insights and informing\n",
        "future marketing strategies."
      ],
      "id": "2ab47ec4"
    },
    {
      "cell_type": "markdown",
      "metadata": {
        "id": "8bfe9121"
      },
      "source": [
        "### Aim \n",
        "To predict an individual’s belief in climate change based on historical tweet data."
      ],
      "id": "8bfe9121"
    },
    {
      "cell_type": "markdown",
      "metadata": {
        "id": "e90bfeb9"
      },
      "source": [
        "### Data description\n",
        "\n",
        "- The collection of this data was funded by a Canada Foundation for Innovation JELF Grant to Chris Bauch, University of   Waterloo.\n",
        "- The dataset aggregates tweets pertaining to climate change collected between Apr 27, 2015 and Feb 21, 2018. \n",
        "- In total, 43943 tweets were collected. \n",
        "- Each tweet is labelled as one of the following classes:\n",
        "\n",
        "Class description:\n",
        "\n",
        "- 2 News: the tweet links to factual news about climate change\n",
        "- 1 Pro: the tweet supports the belief of man-made climate change\n",
        "- 0 Neutral: the tweet neither supports nor refutes the belief of man-made climate change\n",
        "- -1 Anti: the tweet does not believe in man-made climate change\n",
        "- Columns:\n",
        "- sentiment: Sentiment of tweet i.e 0, 1, etc\n",
        "- message: Tweet body\n",
        "- tweetid: Twitter unique id\n"
      ],
      "id": "e90bfeb9"
    },
    {
      "cell_type": "markdown",
      "metadata": {
        "id": "b2e43442"
      },
      "source": [
        "<a id=\"cont\"></a>\n",
        "\n",
        "### Table of Contents\n",
        "\n",
        "<a href=#one>1. Importing Packages</a>\n",
        "\n",
        "<a href=#two>2. Loading Data</a>\n",
        "\n",
        "<a href=#three>3. Data Preprocessing</a>\n",
        "\n",
        "<a href=#four>4. Exploratory Data Analysis (EDA)</a>\n",
        "\n",
        "<a href=#five>5. Data Engineering</a>\n",
        "\n",
        "<a href=#six>6. Modeling</a>\n",
        "\n",
        "<a href=#seven>7. Model Performance</a>\n",
        "\n",
        "<a href=#eight>8. Model Explanation</a>\n",
        "\n",
        "<a href=#nine>9. Conculsion</a>"
      ],
      "id": "b2e43442"
    },
    {
      "cell_type": "markdown",
      "metadata": {
        "id": "3da44bce"
      },
      "source": [
        "### 1. Importing Packages"
      ],
      "id": "3da44bce"
    },
    {
      "cell_type": "code",
      "metadata": {
        "id": "aff08899",
        "colab": {
          "base_uri": "https://localhost:8080/"
        },
        "outputId": "508124fb-31bf-45d5-c6e8-c57f86ce0f6c"
      },
      "source": [
        "import pandas as pd\n",
        "import numpy as np\n",
        "import seaborn as sns\n",
        "import matplotlib.pyplot as plt\n",
        "import nltk\n",
        "nltk.download('stopwords')\n",
        "from nltk.stem.porter import *\n",
        "import re\n",
        "import string\n",
        "from nltk.corpus import stopwords\n",
        "from nltk.tokenize import TreebankWordTokenizer\n",
        "from sklearn.feature_extraction.text import CountVectorizer\n",
        "from sklearn.feature_extraction.text import TfidfVectorizer\n",
        "from sklearn.model_selection import train_test_split\n",
        "from sklearn.neighbors import KNeighborsClassifier\n",
        "from nltk.stem import PorterStemmer\n",
        "from nltk.stem import WordNetLemmatizer\n",
        "nltk.download('wordnet')\n",
        "from sklearn.preprocessing import StandardScaler\n",
        "# ML Libraries\n",
        "from sklearn.metrics import accuracy_score\n",
        "from sklearn.svm import SVC\n",
        "from sklearn import metrics\n",
        "from sklearn.svm import LinearSVC\n",
        "from sklearn.tree import DecisionTreeClassifier\n",
        "from sklearn.naive_bayes import MultinomialNB\n",
        "from sklearn.linear_model import LogisticRegression\n",
        "from sklearn.ensemble import RandomForestClassifier, AdaBoostClassifier\n",
        "from sklearn.neighbors import KNeighborsClassifier\n",
        "from sklearn.model_selection import StratifiedKFold, cross_val_score\n",
        "from sklearn.ensemble import VotingClassifier\n",
        "from sklearn.svm import SVC\n",
        "import os\n",
        "\n",
        "# Global Parameters\n",
        "stop_words = set(stopwords.words('english'))\n",
        "\n",
        "# Setting global constants to ensure notebook results are reproducible\n",
        "pd.set_option('display.max_rows', 500)\n",
        "pd.set_option('display.max_columns', 20)\n",
        "sns.set(rc={'figure.figsize':(12,8)})"
      ],
      "id": "aff08899",
      "execution_count": null,
      "outputs": [
        {
          "output_type": "stream",
          "name": "stdout",
          "text": [
            "[nltk_data] Downloading package stopwords to /root/nltk_data...\n",
            "[nltk_data]   Package stopwords is already up-to-date!\n",
            "[nltk_data] Downloading package wordnet to /root/nltk_data...\n",
            "[nltk_data]   Package wordnet is already up-to-date!\n"
          ]
        }
      ]
    },
    {
      "cell_type": "markdown",
      "metadata": {
        "id": "e11d4dbb"
      },
      "source": [
        "### 2. Loading Data"
      ],
      "id": "e11d4dbb"
    },
    {
      "cell_type": "code",
      "metadata": {
        "id": "c9ddd94f"
      },
      "source": [
        "# Loading train and test data from csv files\n",
        "df_train = pd.read_csv(\"https://raw.githubusercontent.com/MIrfaanA/classification-predict-streamlit-template/master/train.csv\")\n",
        "df_test = pd.read_csv(\"https://raw.githubusercontent.com/MIrfaanA/classification-predict-streamlit-template/master/test_with_no_labels\")"
      ],
      "id": "c9ddd94f",
      "execution_count": null,
      "outputs": []
    },
    {
      "cell_type": "markdown",
      "metadata": {
        "id": "052f5c9d"
      },
      "source": [
        "### 3. Data Preprocessing"
      ],
      "id": "052f5c9d"
    },
    {
      "cell_type": "markdown",
      "metadata": {
        "id": "c0862c46"
      },
      "source": [
        "- Data preprocessing refers to the technique of cleaning and organizing raw data to make it suitable for a building and  training Machine Learning model.\n",
        "- In this section unecessary data will be droped,null values will be filled with mode, the train and test datasets will be merged so that all the data preprocessing is done simultaneously on both datasets."
      ],
      "id": "c0862c46"
    },
    {
      "cell_type": "markdown",
      "metadata": {
        "id": "8d422681"
      },
      "source": [
        "#### 3.1 Raw Data "
      ],
      "id": "8d422681"
    },
    {
      "cell_type": "markdown",
      "metadata": {
        "id": "99f782ac"
      },
      "source": [
        "Lets have a look at the raw data to see what the data set contains, before preprocessing"
      ],
      "id": "99f782ac"
    },
    {
      "cell_type": "code",
      "metadata": {
        "id": "c49d6aed",
        "colab": {
          "base_uri": "https://localhost:8080/",
          "height": 241
        },
        "outputId": "c503c457-07b9-4e27-e605-a69fe3a14781"
      },
      "source": [
        "#Viewing the train dataset\n",
        "display(df_train.head())\n",
        "print(df_train.shape)\n",
        "print('The train data set consists of 15819 rows and 3 columns')"
      ],
      "id": "c49d6aed",
      "execution_count": null,
      "outputs": [
        {
          "output_type": "display_data",
          "data": {
            "text/html": [
              "<div>\n",
              "<style scoped>\n",
              "    .dataframe tbody tr th:only-of-type {\n",
              "        vertical-align: middle;\n",
              "    }\n",
              "\n",
              "    .dataframe tbody tr th {\n",
              "        vertical-align: top;\n",
              "    }\n",
              "\n",
              "    .dataframe thead th {\n",
              "        text-align: right;\n",
              "    }\n",
              "</style>\n",
              "<table border=\"1\" class=\"dataframe\">\n",
              "  <thead>\n",
              "    <tr style=\"text-align: right;\">\n",
              "      <th></th>\n",
              "      <th>sentiment</th>\n",
              "      <th>message</th>\n",
              "      <th>tweetid</th>\n",
              "    </tr>\n",
              "  </thead>\n",
              "  <tbody>\n",
              "    <tr>\n",
              "      <th>0</th>\n",
              "      <td>1</td>\n",
              "      <td>PolySciMajor EPA chief doesn't think carbon di...</td>\n",
              "      <td>625221</td>\n",
              "    </tr>\n",
              "    <tr>\n",
              "      <th>1</th>\n",
              "      <td>1</td>\n",
              "      <td>It's not like we lack evidence of anthropogeni...</td>\n",
              "      <td>126103</td>\n",
              "    </tr>\n",
              "    <tr>\n",
              "      <th>2</th>\n",
              "      <td>2</td>\n",
              "      <td>RT @RawStory: Researchers say we have three ye...</td>\n",
              "      <td>698562</td>\n",
              "    </tr>\n",
              "    <tr>\n",
              "      <th>3</th>\n",
              "      <td>1</td>\n",
              "      <td>#TodayinMaker# WIRED : 2016 was a pivotal year...</td>\n",
              "      <td>573736</td>\n",
              "    </tr>\n",
              "    <tr>\n",
              "      <th>4</th>\n",
              "      <td>1</td>\n",
              "      <td>RT @SoyNovioDeTodas: It's 2016, and a racist, ...</td>\n",
              "      <td>466954</td>\n",
              "    </tr>\n",
              "  </tbody>\n",
              "</table>\n",
              "</div>"
            ],
            "text/plain": [
              "   sentiment                                            message  tweetid\n",
              "0          1  PolySciMajor EPA chief doesn't think carbon di...   625221\n",
              "1          1  It's not like we lack evidence of anthropogeni...   126103\n",
              "2          2  RT @RawStory: Researchers say we have three ye...   698562\n",
              "3          1  #TodayinMaker# WIRED : 2016 was a pivotal year...   573736\n",
              "4          1  RT @SoyNovioDeTodas: It's 2016, and a racist, ...   466954"
            ]
          },
          "metadata": {}
        },
        {
          "output_type": "stream",
          "name": "stdout",
          "text": [
            "(15819, 3)\n",
            "The train data set consists of 15819 rows and 3 columns\n"
          ]
        }
      ]
    },
    {
      "cell_type": "code",
      "metadata": {
        "id": "2f8b1ea2",
        "colab": {
          "base_uri": "https://localhost:8080/",
          "height": 241
        },
        "outputId": "02164f62-a263-4af9-afb5-83c24e4b047b"
      },
      "source": [
        "#Viewing the test dataset\n",
        "display(df_test.head())\n",
        "print(df_test.shape)\n",
        "print('The test data set consists of 10546 rows and 2 columns')"
      ],
      "id": "2f8b1ea2",
      "execution_count": null,
      "outputs": [
        {
          "output_type": "display_data",
          "data": {
            "text/html": [
              "<div>\n",
              "<style scoped>\n",
              "    .dataframe tbody tr th:only-of-type {\n",
              "        vertical-align: middle;\n",
              "    }\n",
              "\n",
              "    .dataframe tbody tr th {\n",
              "        vertical-align: top;\n",
              "    }\n",
              "\n",
              "    .dataframe thead th {\n",
              "        text-align: right;\n",
              "    }\n",
              "</style>\n",
              "<table border=\"1\" class=\"dataframe\">\n",
              "  <thead>\n",
              "    <tr style=\"text-align: right;\">\n",
              "      <th></th>\n",
              "      <th>message</th>\n",
              "      <th>tweetid</th>\n",
              "    </tr>\n",
              "  </thead>\n",
              "  <tbody>\n",
              "    <tr>\n",
              "      <th>0</th>\n",
              "      <td>Europe will now be looking to China to make su...</td>\n",
              "      <td>169760</td>\n",
              "    </tr>\n",
              "    <tr>\n",
              "      <th>1</th>\n",
              "      <td>Combine this with the polling of staffers re c...</td>\n",
              "      <td>35326</td>\n",
              "    </tr>\n",
              "    <tr>\n",
              "      <th>2</th>\n",
              "      <td>The scary, unimpeachable evidence that climate...</td>\n",
              "      <td>224985</td>\n",
              "    </tr>\n",
              "    <tr>\n",
              "      <th>3</th>\n",
              "      <td>@Karoli @morgfair @OsborneInk @dailykos \\nPuti...</td>\n",
              "      <td>476263</td>\n",
              "    </tr>\n",
              "    <tr>\n",
              "      <th>4</th>\n",
              "      <td>RT @FakeWillMoore: 'Female orgasms cause globa...</td>\n",
              "      <td>872928</td>\n",
              "    </tr>\n",
              "  </tbody>\n",
              "</table>\n",
              "</div>"
            ],
            "text/plain": [
              "                                             message  tweetid\n",
              "0  Europe will now be looking to China to make su...   169760\n",
              "1  Combine this with the polling of staffers re c...    35326\n",
              "2  The scary, unimpeachable evidence that climate...   224985\n",
              "3  @Karoli @morgfair @OsborneInk @dailykos \\nPuti...   476263\n",
              "4  RT @FakeWillMoore: 'Female orgasms cause globa...   872928"
            ]
          },
          "metadata": {}
        },
        {
          "output_type": "stream",
          "name": "stdout",
          "text": [
            "(10546, 2)\n",
            "The test data set consists of 10546 rows and 2 columns\n"
          ]
        }
      ]
    },
    {
      "cell_type": "markdown",
      "metadata": {
        "id": "c324e154"
      },
      "source": [
        "The dataset consist of -----  rows and ---- variables of which -----  is the target variable."
      ],
      "id": "c324e154"
    },
    {
      "cell_type": "code",
      "metadata": {
        "id": "3c245e79",
        "colab": {
          "base_uri": "https://localhost:8080/"
        },
        "outputId": "25831af4-4c68-4197-a81f-4d29e24eda04"
      },
      "source": [
        "print(df_train.shape)\n",
        "print('The train data set consists of 15819 rows and 3 columns')"
      ],
      "id": "3c245e79",
      "execution_count": null,
      "outputs": [
        {
          "output_type": "stream",
          "name": "stdout",
          "text": [
            "(15819, 3)\n",
            "The train data set consists of 15819 rows and 3 columns\n"
          ]
        }
      ]
    },
    {
      "cell_type": "code",
      "metadata": {
        "id": "88f7ac4a"
      },
      "source": [
        "# Make a copy of the train data set for cleaning\n",
        "df_clean = df_train.copy()"
      ],
      "id": "88f7ac4a",
      "execution_count": null,
      "outputs": []
    },
    {
      "cell_type": "code",
      "metadata": {
        "id": "a76b132d",
        "colab": {
          "base_uri": "https://localhost:8080/"
        },
        "outputId": "3514cd00-023f-4071-8979-34a14e3f4444"
      },
      "source": [
        "#Empty rows in data setup\n",
        "df_clean.isnull().sum()"
      ],
      "id": "a76b132d",
      "execution_count": null,
      "outputs": [
        {
          "output_type": "execute_result",
          "data": {
            "text/plain": [
              "sentiment    0\n",
              "message      0\n",
              "tweetid      0\n",
              "dtype: int64"
            ]
          },
          "metadata": {},
          "execution_count": 7
        }
      ]
    },
    {
      "cell_type": "markdown",
      "metadata": {
        "id": "d3708d66"
      },
      "source": [
        "### 4. Exploratory Data Analysis"
      ],
      "id": "d3708d66"
    },
    {
      "cell_type": "code",
      "metadata": {
        "id": "ce4ab4be"
      },
      "source": [
        "# Make a copy of the df so that if we make mistakes we can always refer to the original df\n",
        "df_clean = df_train.copy()"
      ],
      "id": "ce4ab4be",
      "execution_count": null,
      "outputs": []
    },
    {
      "cell_type": "markdown",
      "metadata": {
        "id": "0d61a560"
      },
      "source": [
        "### 5. Data Engineering"
      ],
      "id": "0d61a560"
    },
    {
      "cell_type": "code",
      "metadata": {
        "id": "67dc415f"
      },
      "source": [
        ""
      ],
      "id": "67dc415f",
      "execution_count": null,
      "outputs": []
    },
    {
      "cell_type": "markdown",
      "metadata": {
        "id": "0fa34307"
      },
      "source": [
        "### 6. Modeling"
      ],
      "id": "0fa34307"
    },
    {
      "cell_type": "code",
      "metadata": {
        "id": "e333e6a2"
      },
      "source": [
        "tf_vecto = CountVectorizer(lowercase=True,stop_words='english',max_features=100,analyzer='word',ngram_range=(1,3))"
      ],
      "id": "e333e6a2",
      "execution_count": null,
      "outputs": []
    },
    {
      "cell_type": "code",
      "metadata": {
        "id": "RVMnZUyMkybl"
      },
      "source": [
        "X = tf_vecto.fit_transform(df_clean['message'].values.astype(str))"
      ],
      "id": "RVMnZUyMkybl",
      "execution_count": null,
      "outputs": []
    },
    {
      "cell_type": "code",
      "metadata": {
        "id": "rgHJSa2Qk1_M"
      },
      "source": [
        "y = df_clean['sentiment']"
      ],
      "id": "rgHJSa2Qk1_M",
      "execution_count": null,
      "outputs": []
    },
    {
      "cell_type": "code",
      "metadata": {
        "id": "44oECHMtlzLw"
      },
      "source": [
        "X = X.toarray()"
      ],
      "id": "44oECHMtlzLw",
      "execution_count": null,
      "outputs": []
    },
    {
      "cell_type": "code",
      "metadata": {
        "id": "wrOrl38Dl2bM"
      },
      "source": [
        "X_test_sub=tf_vecto.fit_transform(df_test['message'].values.astype(str))"
      ],
      "id": "wrOrl38Dl2bM",
      "execution_count": null,
      "outputs": []
    },
    {
      "cell_type": "code",
      "metadata": {
        "id": "THWkrS9rnFh4"
      },
      "source": [
        "X_train, X_test, y_train, y_test = train_test_split(X, y, test_size = 0.25, random_state = 27)"
      ],
      "id": "THWkrS9rnFh4",
      "execution_count": null,
      "outputs": []
    },
    {
      "cell_type": "code",
      "metadata": {
        "id": "cObNswrunKM0"
      },
      "source": [
        "# These are the different Classification models we will train our data on\n",
        "# Creating a list of names so we can print metrics for the entire list at once\n",
        "names = ['Logistic Regression'\n",
        "         ,'Nearest Neighbors'\n",
        "         ,'Linear SVC'\n",
        "         , 'RBF SVC'\n",
        "         , 'Linear SVM'\n",
        "         , 'Decision Tree'\n",
        "         , 'Random Forest'\n",
        "         ,  'AdaBoost'\n",
        "]"
      ],
      "id": "cObNswrunKM0",
      "execution_count": null,
      "outputs": []
    },
    {
      "cell_type": "code",
      "metadata": {
        "id": "EBT_wMuvnbvn"
      },
      "source": [
        "# These are the different Classification models we will train our data on\n",
        "# Creating a list of names so we can print metrics for the entire list at once\n",
        "classifiers = [\n",
        "    LogisticRegression()\n",
        "    , KNeighborsClassifier(3)\n",
        "    , SVC(kernel=\"linear\", C=0.025)\n",
        "    , SVC(gamma=2, C=1)\n",
        "    , LinearSVC()\n",
        "    , DecisionTreeClassifier(max_depth=5)\n",
        "    , RandomForestClassifier(max_depth=5, n_estimators=10, max_features=1)\n",
        "    , AdaBoostClassifier()\n",
        "]"
      ],
      "id": "EBT_wMuvnbvn",
      "execution_count": null,
      "outputs": []
    },
    {
      "cell_type": "code",
      "metadata": {
        "colab": {
          "base_uri": "https://localhost:8080/"
        },
        "id": "1kpAzif9oavW",
        "outputId": "0fdf0596-7d40-4ccb-f68f-fd25234a5b3f"
      },
      "source": [
        "# Training of models, scoring & appending to results list\n",
        "results = []\n",
        "\n",
        "# Creating dictionaries to store evaluation results\n",
        "models = {}\n",
        "confusion = {}\n",
        "class_report = {}\n",
        "\n",
        "# This will calculate the total training time of each model\n",
        "for name, clf in zip(names, classifiers):\n",
        "    print ('Fitting {:s} model...'.format(name))\n",
        "    run_time = %timeit -q -o clf.fit(X_train, y_train)\n",
        "\n",
        "# This will show us the status of the training\n",
        "    print ('... predicting')\n",
        "    y_pred = clf.predict(X_train)\n",
        "    y_pred_test = clf.predict(X_test)\n",
        "\n",
        "# This will show us the status of the scoring\n",
        "    print ('... scoring')\n",
        "    \n",
        "# These are our evaluation measures\n",
        "    accuracy  = metrics.accuracy_score(y_train, y_pred)\n",
        "    precision = metrics.precision_score(y_train, y_pred, average='weighted')\n",
        "    recall    = metrics.recall_score(y_train, y_pred, average='weighted')\n",
        "\n",
        "    f1        = metrics.f1_score(y_train, y_pred, average='weighted')\n",
        "    f1_test   = metrics.f1_score(y_test, y_pred_test, average='weighted')\n",
        "\n",
        "# Save the results to dictionaries\n",
        "    models[name] = clf\n",
        "    confusion[name] = metrics.confusion_matrix(y_train, y_pred)\n",
        "    class_report[name] = metrics.classification_report(y_train, y_pred)\n",
        "\n",
        "    results.append([name, accuracy, precision,\n",
        "                    recall, f1, f1_test, run_time.best])\n",
        "\n",
        "# Creating a dataframe of the results to view easily\n",
        "results = pd.DataFrame(results, columns=['Classifier', 'Accuracy',\n",
        "                                         'Precision', 'Recall', 'F1 Train',\n",
        "                                         'F1 Test', 'Train Time'])\n",
        "results.set_index('Classifier', inplace= True)"
      ],
      "id": "1kpAzif9oavW",
      "execution_count": null,
      "outputs": [
        {
          "output_type": "stream",
          "name": "stdout",
          "text": [
            "Fitting Logistic Regression model...\n"
          ]
        },
        {
          "output_type": "stream",
          "name": "stderr",
          "text": [
            "/usr/local/lib/python3.7/dist-packages/sklearn/linear_model/_logistic.py:818: ConvergenceWarning: lbfgs failed to converge (status=1):\n",
            "STOP: TOTAL NO. of ITERATIONS REACHED LIMIT.\n",
            "\n",
            "Increase the number of iterations (max_iter) or scale the data as shown in:\n",
            "    https://scikit-learn.org/stable/modules/preprocessing.html\n",
            "Please also refer to the documentation for alternative solver options:\n",
            "    https://scikit-learn.org/stable/modules/linear_model.html#logistic-regression\n",
            "  extra_warning_msg=_LOGISTIC_SOLVER_CONVERGENCE_MSG,\n",
            "/usr/local/lib/python3.7/dist-packages/sklearn/linear_model/_logistic.py:818: ConvergenceWarning: lbfgs failed to converge (status=1):\n",
            "STOP: TOTAL NO. of ITERATIONS REACHED LIMIT.\n",
            "\n",
            "Increase the number of iterations (max_iter) or scale the data as shown in:\n",
            "    https://scikit-learn.org/stable/modules/preprocessing.html\n",
            "Please also refer to the documentation for alternative solver options:\n",
            "    https://scikit-learn.org/stable/modules/linear_model.html#logistic-regression\n",
            "  extra_warning_msg=_LOGISTIC_SOLVER_CONVERGENCE_MSG,\n",
            "/usr/local/lib/python3.7/dist-packages/sklearn/linear_model/_logistic.py:818: ConvergenceWarning: lbfgs failed to converge (status=1):\n",
            "STOP: TOTAL NO. of ITERATIONS REACHED LIMIT.\n",
            "\n",
            "Increase the number of iterations (max_iter) or scale the data as shown in:\n",
            "    https://scikit-learn.org/stable/modules/preprocessing.html\n",
            "Please also refer to the documentation for alternative solver options:\n",
            "    https://scikit-learn.org/stable/modules/linear_model.html#logistic-regression\n",
            "  extra_warning_msg=_LOGISTIC_SOLVER_CONVERGENCE_MSG,\n",
            "/usr/local/lib/python3.7/dist-packages/sklearn/linear_model/_logistic.py:818: ConvergenceWarning: lbfgs failed to converge (status=1):\n",
            "STOP: TOTAL NO. of ITERATIONS REACHED LIMIT.\n",
            "\n",
            "Increase the number of iterations (max_iter) or scale the data as shown in:\n",
            "    https://scikit-learn.org/stable/modules/preprocessing.html\n",
            "Please also refer to the documentation for alternative solver options:\n",
            "    https://scikit-learn.org/stable/modules/linear_model.html#logistic-regression\n",
            "  extra_warning_msg=_LOGISTIC_SOLVER_CONVERGENCE_MSG,\n",
            "/usr/local/lib/python3.7/dist-packages/sklearn/linear_model/_logistic.py:818: ConvergenceWarning: lbfgs failed to converge (status=1):\n",
            "STOP: TOTAL NO. of ITERATIONS REACHED LIMIT.\n",
            "\n",
            "Increase the number of iterations (max_iter) or scale the data as shown in:\n",
            "    https://scikit-learn.org/stable/modules/preprocessing.html\n",
            "Please also refer to the documentation for alternative solver options:\n",
            "    https://scikit-learn.org/stable/modules/linear_model.html#logistic-regression\n",
            "  extra_warning_msg=_LOGISTIC_SOLVER_CONVERGENCE_MSG,\n",
            "/usr/local/lib/python3.7/dist-packages/sklearn/linear_model/_logistic.py:818: ConvergenceWarning: lbfgs failed to converge (status=1):\n",
            "STOP: TOTAL NO. of ITERATIONS REACHED LIMIT.\n",
            "\n",
            "Increase the number of iterations (max_iter) or scale the data as shown in:\n",
            "    https://scikit-learn.org/stable/modules/preprocessing.html\n",
            "Please also refer to the documentation for alternative solver options:\n",
            "    https://scikit-learn.org/stable/modules/linear_model.html#logistic-regression\n",
            "  extra_warning_msg=_LOGISTIC_SOLVER_CONVERGENCE_MSG,\n"
          ]
        },
        {
          "output_type": "stream",
          "name": "stdout",
          "text": [
            "... predicting\n",
            "... scoring\n",
            "Fitting Nearest Neighbors model...\n",
            "... predicting\n",
            "... scoring\n",
            "Fitting Linear SVC model...\n",
            "... predicting\n",
            "... scoring\n",
            "Fitting RBF SVC model...\n"
          ]
        },
        {
          "output_type": "stream",
          "name": "stderr",
          "text": [
            "/usr/local/lib/python3.7/dist-packages/sklearn/metrics/_classification.py:1308: UndefinedMetricWarning: Precision is ill-defined and being set to 0.0 in labels with no predicted samples. Use `zero_division` parameter to control this behavior.\n",
            "  _warn_prf(average, modifier, msg_start, len(result))\n",
            "/usr/local/lib/python3.7/dist-packages/sklearn/metrics/_classification.py:1308: UndefinedMetricWarning: Precision and F-score are ill-defined and being set to 0.0 in labels with no predicted samples. Use `zero_division` parameter to control this behavior.\n",
            "  _warn_prf(average, modifier, msg_start, len(result))\n",
            "/usr/local/lib/python3.7/dist-packages/sklearn/metrics/_classification.py:1308: UndefinedMetricWarning: Precision and F-score are ill-defined and being set to 0.0 in labels with no predicted samples. Use `zero_division` parameter to control this behavior.\n",
            "  _warn_prf(average, modifier, msg_start, len(result))\n",
            "/usr/local/lib/python3.7/dist-packages/sklearn/metrics/_classification.py:1308: UndefinedMetricWarning: Precision and F-score are ill-defined and being set to 0.0 in labels with no predicted samples. Use `zero_division` parameter to control this behavior.\n",
            "  _warn_prf(average, modifier, msg_start, len(result))\n"
          ]
        },
        {
          "output_type": "stream",
          "name": "stdout",
          "text": [
            "... predicting\n",
            "... scoring\n",
            "Fitting Linear SVM model...\n"
          ]
        },
        {
          "output_type": "stream",
          "name": "stderr",
          "text": [
            "/usr/local/lib/python3.7/dist-packages/sklearn/svm/_base.py:1208: ConvergenceWarning: Liblinear failed to converge, increase the number of iterations.\n",
            "  ConvergenceWarning,\n",
            "/usr/local/lib/python3.7/dist-packages/sklearn/svm/_base.py:1208: ConvergenceWarning: Liblinear failed to converge, increase the number of iterations.\n",
            "  ConvergenceWarning,\n",
            "/usr/local/lib/python3.7/dist-packages/sklearn/svm/_base.py:1208: ConvergenceWarning: Liblinear failed to converge, increase the number of iterations.\n",
            "  ConvergenceWarning,\n",
            "/usr/local/lib/python3.7/dist-packages/sklearn/svm/_base.py:1208: ConvergenceWarning: Liblinear failed to converge, increase the number of iterations.\n",
            "  ConvergenceWarning,\n",
            "/usr/local/lib/python3.7/dist-packages/sklearn/svm/_base.py:1208: ConvergenceWarning: Liblinear failed to converge, increase the number of iterations.\n",
            "  ConvergenceWarning,\n",
            "/usr/local/lib/python3.7/dist-packages/sklearn/svm/_base.py:1208: ConvergenceWarning: Liblinear failed to converge, increase the number of iterations.\n",
            "  ConvergenceWarning,\n"
          ]
        },
        {
          "output_type": "stream",
          "name": "stdout",
          "text": [
            "... predicting\n",
            "... scoring\n",
            "Fitting Decision Tree model...\n",
            "... predicting\n",
            "... scoring\n",
            "Fitting Random Forest model...\n",
            "... predicting\n",
            "... scoring\n",
            "Fitting AdaBoost model...\n"
          ]
        },
        {
          "output_type": "stream",
          "name": "stderr",
          "text": [
            "/usr/local/lib/python3.7/dist-packages/sklearn/metrics/_classification.py:1308: UndefinedMetricWarning: Precision is ill-defined and being set to 0.0 in labels with no predicted samples. Use `zero_division` parameter to control this behavior.\n",
            "  _warn_prf(average, modifier, msg_start, len(result))\n",
            "/usr/local/lib/python3.7/dist-packages/sklearn/metrics/_classification.py:1308: UndefinedMetricWarning: Precision and F-score are ill-defined and being set to 0.0 in labels with no predicted samples. Use `zero_division` parameter to control this behavior.\n",
            "  _warn_prf(average, modifier, msg_start, len(result))\n",
            "/usr/local/lib/python3.7/dist-packages/sklearn/metrics/_classification.py:1308: UndefinedMetricWarning: Precision and F-score are ill-defined and being set to 0.0 in labels with no predicted samples. Use `zero_division` parameter to control this behavior.\n",
            "  _warn_prf(average, modifier, msg_start, len(result))\n",
            "/usr/local/lib/python3.7/dist-packages/sklearn/metrics/_classification.py:1308: UndefinedMetricWarning: Precision and F-score are ill-defined and being set to 0.0 in labels with no predicted samples. Use `zero_division` parameter to control this behavior.\n",
            "  _warn_prf(average, modifier, msg_start, len(result))\n"
          ]
        },
        {
          "output_type": "stream",
          "name": "stdout",
          "text": [
            "... predicting\n",
            "... scoring\n"
          ]
        }
      ]
    },
    {
      "cell_type": "markdown",
      "metadata": {
        "id": "2de60548"
      },
      "source": [
        "### 7. Model Performance"
      ],
      "id": "2de60548"
    },
    {
      "cell_type": "code",
      "metadata": {
        "id": "e581d5c1",
        "colab": {
          "base_uri": "https://localhost:8080/",
          "height": 332
        },
        "outputId": "f2912313-34f8-446b-fd07-0eadc4b53c08"
      },
      "source": [
        "# Viewing the results in a dataframe\n",
        "results.sort_values('F1 Test', ascending=False)"
      ],
      "id": "e581d5c1",
      "execution_count": null,
      "outputs": [
        {
          "output_type": "execute_result",
          "data": {
            "text/html": [
              "<div>\n",
              "<style scoped>\n",
              "    .dataframe tbody tr th:only-of-type {\n",
              "        vertical-align: middle;\n",
              "    }\n",
              "\n",
              "    .dataframe tbody tr th {\n",
              "        vertical-align: top;\n",
              "    }\n",
              "\n",
              "    .dataframe thead th {\n",
              "        text-align: right;\n",
              "    }\n",
              "</style>\n",
              "<table border=\"1\" class=\"dataframe\">\n",
              "  <thead>\n",
              "    <tr style=\"text-align: right;\">\n",
              "      <th></th>\n",
              "      <th>Accuracy</th>\n",
              "      <th>Precision</th>\n",
              "      <th>Recall</th>\n",
              "      <th>F1 Train</th>\n",
              "      <th>F1 Test</th>\n",
              "      <th>Train Time</th>\n",
              "    </tr>\n",
              "    <tr>\n",
              "      <th>Classifier</th>\n",
              "      <th></th>\n",
              "      <th></th>\n",
              "      <th></th>\n",
              "      <th></th>\n",
              "      <th></th>\n",
              "      <th></th>\n",
              "    </tr>\n",
              "  </thead>\n",
              "  <tbody>\n",
              "    <tr>\n",
              "      <th>Logistic Regression</th>\n",
              "      <td>0.624916</td>\n",
              "      <td>0.608064</td>\n",
              "      <td>0.624916</td>\n",
              "      <td>0.586654</td>\n",
              "      <td>0.594599</td>\n",
              "      <td>1.394330</td>\n",
              "    </tr>\n",
              "    <tr>\n",
              "      <th>AdaBoost</th>\n",
              "      <td>0.600051</td>\n",
              "      <td>0.579332</td>\n",
              "      <td>0.600051</td>\n",
              "      <td>0.570704</td>\n",
              "      <td>0.589375</td>\n",
              "      <td>0.885051</td>\n",
              "    </tr>\n",
              "    <tr>\n",
              "      <th>Linear SVM</th>\n",
              "      <td>0.621291</td>\n",
              "      <td>0.605783</td>\n",
              "      <td>0.621291</td>\n",
              "      <td>0.573251</td>\n",
              "      <td>0.582510</td>\n",
              "      <td>2.860188</td>\n",
              "    </tr>\n",
              "    <tr>\n",
              "      <th>RBF SVC</th>\n",
              "      <td>0.761042</td>\n",
              "      <td>0.768519</td>\n",
              "      <td>0.761042</td>\n",
              "      <td>0.750801</td>\n",
              "      <td>0.577293</td>\n",
              "      <td>18.121136</td>\n",
              "    </tr>\n",
              "    <tr>\n",
              "      <th>Nearest Neighbors</th>\n",
              "      <td>0.668999</td>\n",
              "      <td>0.663520</td>\n",
              "      <td>0.668999</td>\n",
              "      <td>0.665315</td>\n",
              "      <td>0.571047</td>\n",
              "      <td>0.000967</td>\n",
              "    </tr>\n",
              "    <tr>\n",
              "      <th>Decision Tree</th>\n",
              "      <td>0.594993</td>\n",
              "      <td>0.591559</td>\n",
              "      <td>0.594993</td>\n",
              "      <td>0.556860</td>\n",
              "      <td>0.565495</td>\n",
              "      <td>0.030225</td>\n",
              "    </tr>\n",
              "    <tr>\n",
              "      <th>Linear SVC</th>\n",
              "      <td>0.602326</td>\n",
              "      <td>0.468677</td>\n",
              "      <td>0.602326</td>\n",
              "      <td>0.513915</td>\n",
              "      <td>0.519538</td>\n",
              "      <td>9.547825</td>\n",
              "    </tr>\n",
              "    <tr>\n",
              "      <th>Random Forest</th>\n",
              "      <td>0.537256</td>\n",
              "      <td>0.517945</td>\n",
              "      <td>0.537256</td>\n",
              "      <td>0.375715</td>\n",
              "      <td>0.385241</td>\n",
              "      <td>0.038802</td>\n",
              "    </tr>\n",
              "  </tbody>\n",
              "</table>\n",
              "</div>"
            ],
            "text/plain": [
              "                     Accuracy  Precision    Recall  F1 Train   F1 Test  \\\n",
              "Classifier                                                               \n",
              "Logistic Regression  0.624916   0.608064  0.624916  0.586654  0.594599   \n",
              "AdaBoost             0.600051   0.579332  0.600051  0.570704  0.589375   \n",
              "Linear SVM           0.621291   0.605783  0.621291  0.573251  0.582510   \n",
              "RBF SVC              0.761042   0.768519  0.761042  0.750801  0.577293   \n",
              "Nearest Neighbors    0.668999   0.663520  0.668999  0.665315  0.571047   \n",
              "Decision Tree        0.594993   0.591559  0.594993  0.556860  0.565495   \n",
              "Linear SVC           0.602326   0.468677  0.602326  0.513915  0.519538   \n",
              "Random Forest        0.537256   0.517945  0.537256  0.375715  0.385241   \n",
              "\n",
              "                     Train Time  \n",
              "Classifier                       \n",
              "Logistic Regression    1.394330  \n",
              "AdaBoost               0.885051  \n",
              "Linear SVM             2.860188  \n",
              "RBF SVC               18.121136  \n",
              "Nearest Neighbors      0.000967  \n",
              "Decision Tree          0.030225  \n",
              "Linear SVC             9.547825  \n",
              "Random Forest          0.038802  "
            ]
          },
          "metadata": {},
          "execution_count": 31
        }
      ]
    },
    {
      "cell_type": "code",
      "metadata": {
        "colab": {
          "base_uri": "https://localhost:8080/",
          "height": 452
        },
        "id": "3Z6NNEpmosYJ",
        "outputId": "b658aec6-45a2-41c5-9c9d-65e72bf648d3"
      },
      "source": [
        "# Viewing the results on a bar chart\n",
        "fig, ax = plt.subplots(1, 2, figsize=(10, 5))\n",
        "results.sort_values('F1 Train', ascending=False, inplace=True)\n",
        "results.plot(y=['F1 Test'], kind='bar', ax=ax[0],\n",
        "             xlim=[0,1.1], ylim=[0.15,0.92])\n",
        "results.plot(y='Train Time', kind='bar', ax=ax[1])"
      ],
      "id": "3Z6NNEpmosYJ",
      "execution_count": null,
      "outputs": [
        {
          "output_type": "execute_result",
          "data": {
            "text/plain": [
              "<matplotlib.axes._subplots.AxesSubplot at 0x7f67e0083250>"
            ]
          },
          "metadata": {},
          "execution_count": 34
        },
        {
          "output_type": "display_data",
          "data": {
            "image/png": "[encoded data removed]",
            "text/plain": [
              "<Figure size 720x360 with 2 Axes>"
            ]
          },
          "metadata": {}
        }
      ]
    },
    {
      "cell_type": "markdown",
      "metadata": {
        "id": "c45945cc"
      },
      "source": [
        "### 8. Model Explanation"
      ],
      "id": "c45945cc"
    },
    {
      "cell_type": "code",
      "metadata": {
        "id": "34c7e8d4"
      },
      "source": [
        ""
      ],
      "id": "34c7e8d4",
      "execution_count": null,
      "outputs": []
    },
    {
      "cell_type": "markdown",
      "metadata": {
        "id": "a144c2dd"
      },
      "source": [
        "### 9. Conclusion"
      ],
      "id": "a144c2dd"
    },
    {
      "cell_type": "code",
      "metadata": {
        "id": "a9631b00"
      },
      "source": [
        ""
      ],
      "id": "a9631b00",
      "execution_count": null,
      "outputs": []
    },
    {
      "cell_type": "markdown",
      "metadata": {
        "id": "fa767c63"
      },
      "source": [
        "### Making a submission"
      ],
      "id": "fa767c63"
    },
    {
      "cell_type": "code",
      "metadata": {
        "id": "625ad4e8"
      },
      "source": [
        ""
      ],
      "id": "625ad4e8",
      "execution_count": null,
      "outputs": []
    }
  ]
}