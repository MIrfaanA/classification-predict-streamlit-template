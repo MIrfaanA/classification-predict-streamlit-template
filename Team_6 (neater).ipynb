{
 "cells": [
  {
   "cell_type": "markdown",
   "id": "0f929e9e",
   "metadata": {},
   "source": [
    "## 2021/22 Climate Change Belief Analysis Predict Solution"
   ]
  },
  {
   "cell_type": "markdown",
   "id": "64599664",
   "metadata": {},
   "source": [
    "<img src=\"https://1qa2mv1tvhvk1t1uyv1mvwyx1dmd-wpengine.netdna-ssl.com/files/2014/01/Twitter-350.jpg\"\n",
    "     alt=\"Learn good habits to avoid modeling debt\"\n",
    "     style=\"float: center; padding-bottom=0.5em\"\n",
    "     width=700px\n",
    "     height=10px/>"
   ]
  },
  {
   "cell_type": "markdown",
   "id": "79c0835a",
   "metadata": {},
   "source": [
    "### Team 6 \n",
    "\n",
    "- Floyd Skakane\n",
    "- Lehlogonolo Jesica Teffo\n",
    "- Muhammed Irfaan Ahmed\n",
    "- Mulalo Malange\n",
    "- Vuyisile Ngobeni\n"
   ]
  },
  {
   "cell_type": "markdown",
   "id": "ed63299c",
   "metadata": {},
   "source": [
    "### Supervisor\n",
    "James Combrink"
   ]
  },
  {
   "cell_type": "markdown",
   "id": "74ac4248",
   "metadata": {},
   "source": [
    "### Introduction\n",
    "\n",
    "Many companies are built around lessening one’s environmental impact or carbon footprint.They offer  products and services that are environmentally friendly and sustainable, in line with their values  and ideals.They would like to determine how people perceive climate change and whether or not they believe  it is a real threat.This would add to their market research efforts in gauging how their product/service may be received."
   ]
  },
  {
   "cell_type": "markdown",
   "id": "98fb3686",
   "metadata": {},
   "source": [
    "### Problem statement"
   ]
  },
  {
   "cell_type": "markdown",
   "id": "2ab47ec4",
   "metadata": {},
   "source": [
    "We are tasked to create a Machine Learning model that is able to classify whether or not a person believes in climate change,\n",
    "based on their novel tweet data.Providing an accurate and robust solution to this task gives companies access to a broad base\n",
    "of consumer sentiment, spanning multiple demographic and geographic categories - thus increasing their insights and informing\n",
    "future marketing strategies."
   ]
  },
  {
   "cell_type": "markdown",
   "id": "8bfe9121",
   "metadata": {},
   "source": [
    "### Aim \n",
    "To predict an individual’s belief in climate change based on historical tweet data."
   ]
  },
  {
   "cell_type": "markdown",
   "id": "e90bfeb9",
   "metadata": {},
   "source": [
    "### Data description\n",
    "\n",
    "- The collection of this data was funded by a Canada Foundation for Innovation JELF Grant to Chris Bauch, University of   Waterloo.\n",
    "- The dataset aggregates tweets pertaining to climate change collected between Apr 27, 2015 and Feb 21, 2018. \n",
    "- In total, 43943 tweets were collected. \n",
    "- Each tweet is labelled as one of the following classes:\n",
    "\n",
    "Class description:\n",
    "\n",
    "- 2 News: the tweet links to factual news about climate change\n",
    "- 1 Pro: the tweet supports the belief of man-made climate change\n",
    "- 0 Neutral: the tweet neither supports nor refutes the belief of man-made climate change\n",
    "- -1 Anti: the tweet does not believe in man-made climate change\n",
    "- Columns:\n",
    "- sentiment: Sentiment of tweet i.e 0, 1, etc\n",
    "- message: Tweet body\n",
    "- tweetid: Twitter unique id\n"
   ]
  },
  {
   "cell_type": "markdown",
   "id": "b2e43442",
   "metadata": {},
   "source": [
    "<a id=\"cont\"></a>\n",
    "\n",
    "### Table of Contents\n",
    "\n",
    "<a href=#one>1. Importing Packages</a>\n",
    "\n",
    "<a href=#two>2. Loading Data</a>\n",
    "\n",
    "<a href=#three>3. Data Preprocessing</a>\n",
    "\n",
    "<a href=#four>4. Exploratory Data Analysis (EDA)</a>\n",
    "\n",
    "<a href=#five>5. Data Engineering</a>\n",
    "\n",
    "<a href=#six>6. Modeling</a>\n",
    "\n",
    "<a href=#seven>7. Model Performance</a>\n",
    "\n",
    "<a href=#eight>8. Model Explanation</a>\n",
    "\n",
    "<a href=#nine>9. Conculsion</a>"
   ]
  },
  {
   "cell_type": "markdown",
   "id": "3da44bce",
   "metadata": {},
   "source": [
    "### 1. Importing Packages"
   ]
  },
  {
   "cell_type": "code",
   "execution_count": 4,
   "id": "aff08899",
   "metadata": {},
   "outputs": [
    {
     "name": "stderr",
     "output_type": "stream",
     "text": [
      "[nltk_data] Downloading package stopwords to\n",
      "[nltk_data]     C:\\Users\\XPS14\\AppData\\Roaming\\nltk_data...\n",
      "[nltk_data]   Package stopwords is already up-to-date!\n",
      "[nltk_data] Downloading package wordnet to\n",
      "[nltk_data]     C:\\Users\\XPS14\\AppData\\Roaming\\nltk_data...\n",
      "[nltk_data]   Package wordnet is already up-to-date!\n"
     ]
    }
   ],
   "source": [
    "import pandas as pd\n",
    "import numpy as np\n",
    "import seaborn as sns\n",
    "import nltk\n",
    "nltk.download('stopwords')\n",
    "from nltk.stem.porter import *\n",
    "import re\n",
    "import string\n",
    "from nltk.corpus import stopwords\n",
    "from nltk.tokenize import TreebankWordTokenizer\n",
    "from sklearn.feature_extraction.text import CountVectorizer\n",
    "from sklearn.feature_extraction.text import TfidfVectorizer\n",
    "from sklearn.model_selection import train_test_split\n",
    "from nltk.stem import PorterStemmer\n",
    "from nltk.stem import WordNetLemmatizer\n",
    "nltk.download('wordnet')\n",
    "from sklearn.preprocessing import StandardScaler\n",
    "# ML Libraries\n",
    "from sklearn.metrics import accuracy_score\n",
    "from sklearn.naive_bayes import MultinomialNB\n",
    "from sklearn.linear_model import LogisticRegression\n",
    "from sklearn.ensemble import RandomForestClassifier, AdaBoostClassifier\n",
    "from sklearn.svm import SVC\n",
    "import os\n",
    "\n",
    "# Global Parameters\n",
    "stop_words = set(stopwords.words('english'))\n",
    "\n",
    "# Setting global constants to ensure notebook results are reproducible\n",
    "pd.set_option('display.max_rows', 500)\n",
    "pd.set_option('display.max_columns', 20)\n",
    "sns.set(rc={'figure.figsize':(12,8)})"
   ]
  },
  {
   "cell_type": "markdown",
   "id": "e11d4dbb",
   "metadata": {},
   "source": [
    "### 2. Loading Data"
   ]
  },
  {
   "cell_type": "code",
   "execution_count": 6,
   "id": "c9ddd94f",
   "metadata": {},
   "outputs": [],
   "source": [
    "# Loading train and test data from csv files\n",
    "df_train = pd.read_csv(\"train.csv\")\n",
    "df_test = pd.read_csv(\"test_with_no_labels.csv\")"
   ]
  },
  {
   "cell_type": "markdown",
   "id": "052f5c9d",
   "metadata": {},
   "source": [
    "### 3. Data Preprocessing"
   ]
  },
  {
   "cell_type": "markdown",
   "id": "c0862c46",
   "metadata": {},
   "source": [
    "- Data preprocessing refers to the technique of cleaning and organizing raw data to make it suitable for a building and  training Machine Learning model.\n",
    "- In this section unecessary data will be droped,null values will be filled with mode, the train and test datasets will be merged so that all the data preprocessing is done simultaneously on both datasets."
   ]
  },
  {
   "cell_type": "markdown",
   "id": "8d422681",
   "metadata": {},
   "source": [
    "#### 3.1 Raw Data "
   ]
  },
  {
   "cell_type": "markdown",
   "id": "99f782ac",
   "metadata": {},
   "source": [
    "Lets have a look at the raw data to see what the data set contains, before preprocessing"
   ]
  },
  {
   "cell_type": "code",
   "execution_count": 20,
   "id": "c49d6aed",
   "metadata": {},
   "outputs": [
    {
     "data": {
      "text/html": [
       "<div>\n",
       "<style scoped>\n",
       "    .dataframe tbody tr th:only-of-type {\n",
       "        vertical-align: middle;\n",
       "    }\n",
       "\n",
       "    .dataframe tbody tr th {\n",
       "        vertical-align: top;\n",
       "    }\n",
       "\n",
       "    .dataframe thead th {\n",
       "        text-align: right;\n",
       "    }\n",
       "</style>\n",
       "<table border=\"1\" class=\"dataframe\">\n",
       "  <thead>\n",
       "    <tr style=\"text-align: right;\">\n",
       "      <th></th>\n",
       "      <th>sentiment</th>\n",
       "      <th>message</th>\n",
       "      <th>tweetid</th>\n",
       "    </tr>\n",
       "  </thead>\n",
       "  <tbody>\n",
       "    <tr>\n",
       "      <th>0</th>\n",
       "      <td>1</td>\n",
       "      <td>PolySciMajor EPA chief doesn't think carbon di...</td>\n",
       "      <td>625221</td>\n",
       "    </tr>\n",
       "    <tr>\n",
       "      <th>1</th>\n",
       "      <td>1</td>\n",
       "      <td>It's not like we lack evidence of anthropogeni...</td>\n",
       "      <td>126103</td>\n",
       "    </tr>\n",
       "    <tr>\n",
       "      <th>2</th>\n",
       "      <td>2</td>\n",
       "      <td>RT @RawStory: Researchers say we have three ye...</td>\n",
       "      <td>698562</td>\n",
       "    </tr>\n",
       "    <tr>\n",
       "      <th>3</th>\n",
       "      <td>1</td>\n",
       "      <td>#TodayinMaker# WIRED : 2016 was a pivotal year...</td>\n",
       "      <td>573736</td>\n",
       "    </tr>\n",
       "    <tr>\n",
       "      <th>4</th>\n",
       "      <td>1</td>\n",
       "      <td>RT @SoyNovioDeTodas: It's 2016, and a racist, ...</td>\n",
       "      <td>466954</td>\n",
       "    </tr>\n",
       "  </tbody>\n",
       "</table>\n",
       "</div>"
      ],
      "text/plain": [
       "   sentiment                                            message  tweetid\n",
       "0          1  PolySciMajor EPA chief doesn't think carbon di...   625221\n",
       "1          1  It's not like we lack evidence of anthropogeni...   126103\n",
       "2          2  RT @RawStory: Researchers say we have three ye...   698562\n",
       "3          1  #TodayinMaker# WIRED : 2016 was a pivotal year...   573736\n",
       "4          1  RT @SoyNovioDeTodas: It's 2016, and a racist, ...   466954"
      ]
     },
     "metadata": {},
     "output_type": "display_data"
    },
    {
     "name": "stdout",
     "output_type": "stream",
     "text": [
      "(15819, 3)\n",
      "The train data set consists of 15819 rows and 3 columns\n"
     ]
    }
   ],
   "source": [
    "#Viewing the train dataset\n",
    "display(df_train.head())\n",
    "print(df_train.shape)\n",
    "print('The train data set consists of 15819 rows and 3 columns')"
   ]
  },
  {
   "cell_type": "code",
   "execution_count": 23,
   "id": "2f8b1ea2",
   "metadata": {},
   "outputs": [
    {
     "data": {
      "text/html": [
       "<div>\n",
       "<style scoped>\n",
       "    .dataframe tbody tr th:only-of-type {\n",
       "        vertical-align: middle;\n",
       "    }\n",
       "\n",
       "    .dataframe tbody tr th {\n",
       "        vertical-align: top;\n",
       "    }\n",
       "\n",
       "    .dataframe thead th {\n",
       "        text-align: right;\n",
       "    }\n",
       "</style>\n",
       "<table border=\"1\" class=\"dataframe\">\n",
       "  <thead>\n",
       "    <tr style=\"text-align: right;\">\n",
       "      <th></th>\n",
       "      <th>message</th>\n",
       "      <th>tweetid</th>\n",
       "    </tr>\n",
       "  </thead>\n",
       "  <tbody>\n",
       "    <tr>\n",
       "      <th>0</th>\n",
       "      <td>Europe will now be looking to China to make su...</td>\n",
       "      <td>169760</td>\n",
       "    </tr>\n",
       "    <tr>\n",
       "      <th>1</th>\n",
       "      <td>Combine this with the polling of staffers re c...</td>\n",
       "      <td>35326</td>\n",
       "    </tr>\n",
       "    <tr>\n",
       "      <th>2</th>\n",
       "      <td>The scary, unimpeachable evidence that climate...</td>\n",
       "      <td>224985</td>\n",
       "    </tr>\n",
       "    <tr>\n",
       "      <th>3</th>\n",
       "      <td>@Karoli @morgfair @OsborneInk @dailykos \\nPuti...</td>\n",
       "      <td>476263</td>\n",
       "    </tr>\n",
       "    <tr>\n",
       "      <th>4</th>\n",
       "      <td>RT @FakeWillMoore: 'Female orgasms cause globa...</td>\n",
       "      <td>872928</td>\n",
       "    </tr>\n",
       "  </tbody>\n",
       "</table>\n",
       "</div>"
      ],
      "text/plain": [
       "                                             message  tweetid\n",
       "0  Europe will now be looking to China to make su...   169760\n",
       "1  Combine this with the polling of staffers re c...    35326\n",
       "2  The scary, unimpeachable evidence that climate...   224985\n",
       "3  @Karoli @morgfair @OsborneInk @dailykos \\nPuti...   476263\n",
       "4  RT @FakeWillMoore: 'Female orgasms cause globa...   872928"
      ]
     },
     "metadata": {},
     "output_type": "display_data"
    },
    {
     "name": "stdout",
     "output_type": "stream",
     "text": [
      "(10546, 2)\n",
      "The test data set consists of 10546 rows and 2 columns\n"
     ]
    }
   ],
   "source": [
    "#Viewing the test dataset\n",
    "display(df_test.head())\n",
    "print(df_test.shape)\n",
    "print('The test data set consists of 10546 rows and 2 columns')"
   ]
  },
  {
   "cell_type": "markdown",
   "id": "c324e154",
   "metadata": {},
   "source": [
    "The dataset consist of -----  rows and ---- variables of which -----  is the target variable."
   ]
  },
  {
   "cell_type": "code",
   "execution_count": null,
   "id": "3c245e79",
   "metadata": {},
   "outputs": [],
   "source": [
    "print(df_train.shape)\n",
    "print('The train data set consists of 15819 rows and 3 columns')"
   ]
  },
  {
   "cell_type": "code",
   "execution_count": 25,
   "id": "88f7ac4a",
   "metadata": {},
   "outputs": [],
   "source": [
    "# Make a copy of the train data set for cleaning\n",
    "df_clean = df_train.copy()"
   ]
  },
  {
   "cell_type": "code",
   "execution_count": 26,
   "id": "a76b132d",
   "metadata": {},
   "outputs": [
    {
     "data": {
      "text/plain": [
       "sentiment    0\n",
       "message      0\n",
       "tweetid      0\n",
       "dtype: int64"
      ]
     },
     "execution_count": 26,
     "metadata": {},
     "output_type": "execute_result"
    }
   ],
   "source": [
    "#Empty rows in data setup\n",
    "df_clean.isnull().sum()"
   ]
  },
  {
   "cell_type": "markdown",
   "id": "d3708d66",
   "metadata": {},
   "source": [
    "### 4. Exploratory Data Analysis"
   ]
  },
  {
   "cell_type": "code",
   "execution_count": 24,
   "id": "ce4ab4be",
   "metadata": {},
   "outputs": [],
   "source": [
    "# Make a copy of the df so that if we make mistakes we can always refer to the original df\n",
    "df_clean = df_train.copy()"
   ]
  },
  {
   "cell_type": "markdown",
   "id": "0d61a560",
   "metadata": {},
   "source": [
    "### 5. Data Engineering"
   ]
  },
  {
   "cell_type": "code",
   "execution_count": null,
   "id": "67dc415f",
   "metadata": {},
   "outputs": [],
   "source": []
  },
  {
   "cell_type": "markdown",
   "id": "0fa34307",
   "metadata": {},
   "source": [
    "### 6. Modeling"
   ]
  },
  {
   "cell_type": "code",
   "execution_count": null,
   "id": "e333e6a2",
   "metadata": {},
   "outputs": [],
   "source": []
  },
  {
   "cell_type": "markdown",
   "id": "2de60548",
   "metadata": {},
   "source": [
    "### 7. Model Performance"
   ]
  },
  {
   "cell_type": "code",
   "execution_count": null,
   "id": "e581d5c1",
   "metadata": {},
   "outputs": [],
   "source": []
  },
  {
   "cell_type": "markdown",
   "id": "c45945cc",
   "metadata": {},
   "source": [
    "### 8. Model Explanation"
   ]
  },
  {
   "cell_type": "code",
   "execution_count": null,
   "id": "34c7e8d4",
   "metadata": {},
   "outputs": [],
   "source": []
  },
  {
   "cell_type": "markdown",
   "id": "a144c2dd",
   "metadata": {},
   "source": [
    "### 9. Conclusion"
   ]
  },
  {
   "cell_type": "code",
   "execution_count": null,
   "id": "a9631b00",
   "metadata": {},
   "outputs": [],
   "source": []
  },
  {
   "cell_type": "markdown",
   "id": "fa767c63",
   "metadata": {},
   "source": [
    "### Making a submission"
   ]
  },
  {
   "cell_type": "code",
   "execution_count": null,
   "id": "625ad4e8",
   "metadata": {},
   "outputs": [],
   "source": []
  }
 ],
 "metadata": {
  "kernelspec": {
   "display_name": "Python 3",
   "language": "python",
   "name": "python3"
  },
  "language_info": {
   "codemirror_mode": {
    "name": "ipython",
    "version": 3
   },
   "file_extension": ".py",
   "mimetype": "text/x-python",
   "name": "python",
   "nbconvert_exporter": "python",
   "pygments_lexer": "ipython3",
   "version": "3.8.8"
  }
 },
 "nbformat": 4,
 "nbformat_minor": 5
}
